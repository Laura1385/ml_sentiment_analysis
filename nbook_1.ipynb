{
 "cells": [
  {
   "cell_type": "code",
   "execution_count": 49,
   "metadata": {},
   "outputs": [
    {
     "name": "stdout",
     "output_type": "stream",
     "text": [
      "The current python's version is:  3.9.19\n",
      "\n",
      "The path of the current Python interpreter (should be a virtual env!):\n",
      " /Users/laura/Progetti_Python/000_Progetti_in_corso/ML_SentimentAnalysisX/.v_env_mlX/bin/python\n"
     ]
    }
   ],
   "source": [
    "#Check python's version\n",
    "from platform import python_version\n",
    "print(\"The current python's version is: \",python_version())\n",
    "\n",
    "#Check the path of the current Python interpreter used to execute the script.\n",
    "import sys\n",
    "print(\"\\nThe path of the current Python interpreter (should be a virtual env!):\\n\",sys.executable)"
   ]
  },
  {
   "cell_type": "markdown",
   "metadata": {},
   "source": [
    "<h1 style=\"background-color:#eaeaea;font-family:Calibri;color:#fe0b50;font-size:200%;text-align:center;border-radius: 50px;padding: 10px\">Machine Learning Sentiment Analysis X (Twitter) 2 -- Data from Kaggle </h1>"
   ]
  },
  {
   "cell_type": "markdown",
   "metadata": {},
   "source": [
    "Machine Learning Sentiment Analysis X (Twitter)"
   ]
  },
  {
   "cell_type": "markdown",
   "metadata": {},
   "source": [
    "## The Project \n",
    "\n",
    "The project focuses on analysing the sentiment of tweets, using a machine learning technique. \n",
    "The objective is to determine the sentiment expressed within tweets using the Naive Bayes Classifier algorithm.\n",
    "This algorithm relies on Bayes' theorem and is termed 'naive' based on its assumption of conditional independence among features. The Naive Bayes Classifier is particularly effective with small datasets and weakly related features.\n",
    "(The sentiment analysis is most commonly used on short texts such as reviews, tweets or messages; it is not suitable for analysing longer texts such as books.)\n",
    "\n",
    "*Tweets taken from: https://www.kaggle.com/datasets/jp797498e/twitter-entity-sentiment-analysis"
   ]
  },
  {
   "cell_type": "markdown",
   "metadata": {},
   "source": [
    "<h1 style=\"background-color:#eaeaea;font-family:Calibri;color:orange;font-size:250%;text-align:center;border-radius:50px;padding:10px 30px;\">Index</h1>"
   ]
  },
  {
   "cell_type": "markdown",
   "metadata": {},
   "source": [
    "INDEX\n",
    "\n",
    "- [Libraries & Utilities](#0)\n",
    "\n",
    "- [Data Preprocessing](#1)\n",
    "    - [Importing Data](#1-1)\n",
    "    - [Tokenisation and text cleaning](#1-2)\n",
    "    - [Feature Extraction](#1-3)\n",
    "- [The Dataset](#2)\n",
    "    - [Cleansing the tweets](#2-1)\n",
    "    - [Extracts the word frequency features](#2-2)\n",
    "    - [Splitting the dataset](#2-3)\n",
    "- [The Model](#3)\n",
    "    - [Training the model](#3-1)\n",
    "    - [Test the model and calculates the accuracy](#3-2)\n",
    "    - [Test the model on new data](#3-3)\n"
   ]
  },
  {
   "cell_type": "markdown",
   "metadata": {},
   "source": [
    "<a id = '0'></a>\n",
    "<h1 style=\"background-color:#eaeaea;font-family:Calibri;color:blue;font-size:250%;text-align:center;border-radius:50px;padding:10px 30px;\">Libraries</h1>"
   ]
  },
  {
   "cell_type": "markdown",
   "metadata": {},
   "source": [
    "<a id = '0'></a>\n",
    "<h1 style=\"font-size: 150%;\">Libraries & Utilities</h1>"
   ]
  },
  {
   "cell_type": "code",
   "execution_count": 50,
   "metadata": {},
   "outputs": [
    {
     "name": "stderr",
     "output_type": "stream",
     "text": [
      "[nltk_data] Downloading package stopwords to /Users/laura/nltk_data...\n",
      "[nltk_data]   Package stopwords is already up-to-date!\n"
     ]
    }
   ],
   "source": [
    "#Install all the libraries the project needs\n",
    "#pip install -r requirements.txt \n",
    "\n",
    "import nltk\n",
    "import re\n",
    "import kaggle\n",
    "import pandas as pd\n",
    "import openpyxl\n",
    "import matplotlib.pyplot as plt\n",
    "from nltk.tokenize import TweetTokenizer\n",
    "from nltk.stem import PorterStemmer\n",
    "from nltk.corpus import stopwords\n",
    "nltk.download('stopwords') #collection of stopwords\n",
    "from sklearn.model_selection import train_test_split\n",
    "from nltk.classify import NaiveBayesClassifier\n",
    "\n",
    "import warnings #only for os\n",
    "warnings.filterwarnings(\"ignore\") #only for os"
   ]
  },
  {
   "cell_type": "markdown",
   "metadata": {},
   "source": [
    "Libraries:\n",
    "1. ***nltk***\n",
    "-> Used for natural language processing\n",
    "2. ***re***\n",
    "-> Used to regular expression\n",
    "3. ***kaggle***\n",
    "-> Used to access the Kaggle API\n",
    "4. ***pandas***\n",
    "-> Used to parse data; among its main functionalities is the creation of the data structure called DataFrame.\n",
    "5. ***openpyxl***\n",
    "-> Used to open the data structure\n",
    "6. ***matplotlib***\n",
    "-> Used to plot graphs\n",
    "7. ***TweetTokenizer***\n",
    "-> Used to tokenize tweets into words\n",
    "8. ***PorterStemmer***\n",
    "-> Used to stem words to their roots form\n",
    "9. ***stopwords***\n",
    "-> Used to remove stopwords from tweets - collection of common words that are often removed during text preprocessing\n",
    "10. ***train_test_split***\n",
    "-> Used to split the dataset into train and test sets\n",
    "11. ***NaiveBayesClassifier***\n",
    "-> Used to train a Naive Bayes classifier for text classification\n",
    "12. ***warnings***\n",
    "-> Used to handle warnings during code execution."
   ]
  },
  {
   "cell_type": "markdown",
   "metadata": {},
   "source": [
    "<a id = '1'></a>\n",
    "<h1 style=\"background-color:#eaeaea;font-family:Calibri;color:green;font-size:250%;text-align:center;border-radius: 50px;padding:10px 30px\">Data Preprocessing</h1>"
   ]
  },
  {
   "cell_type": "markdown",
   "metadata": {},
   "source": [
    "<a id = '1-1'></a>\n",
    "<h1 style=\"font-size: 150%;\">Importing Data</h1>"
   ]
  },
  {
   "cell_type": "code",
   "execution_count": 46,
   "metadata": {},
   "outputs": [
    {
     "name": "stdout",
     "output_type": "stream",
     "text": [
      "Dataset URL: https://www.kaggle.com/datasets/jp797498e/twitter-entity-sentiment-analysis\n"
     ]
    }
   ],
   "source": [
    "#Api's kaggle\n",
    "kaggle.api = kaggle.KaggleApi()\n",
    "kaggle.api.authenticate()\n",
    "kaggle.api.dataset_download_files('jp797498e/twitter-entity-sentiment-analysis', \n",
    "                                  path='./Input_nbook_1',\n",
    "                                  unzip = True) #True -> Unzip file\n"
   ]
  },
  {
   "cell_type": "code",
   "execution_count": 47,
   "metadata": {},
   "outputs": [],
   "source": [
    "#Variables creation\n",
    "df_train = pd.read_csv('Input_nbook_1/twitter_training.csv', header = None)\n",
    "df_val = pd.read_csv('Input_nbook_1/twitter_validation.csv', header = None)\n",
    "\n",
    "#Add name's columns\n",
    "column_names = ['Num', 'Name', 'Value', 'Tweet']  # Sostituisci con i nomi delle tue colonne\n",
    "df_train.columns = column_names\n",
    "df_val.columns = column_names"
   ]
  },
  {
   "cell_type": "code",
   "execution_count": 48,
   "metadata": {},
   "outputs": [
    {
     "name": "stdout",
     "output_type": "stream",
     "text": [
      "['Num', 'Name', 'Value', 'Tweet'] The number of df_train is: 74682\n",
      "['Num', 'Name', 'Value', 'Tweet'] The number of df_val is: 1000\n",
      "\n",
      "Total rows number: 75682\n"
     ]
    }
   ],
   "source": [
    "#Coloums of the datasets\n",
    "print(list(df_train.columns), 'The number of df_train is:', (df_train.shape[0]))\n",
    "print(list(df_val.columns), 'The number of df_val is:', (df_val.shape[0]))\n",
    "print('\\nTotal rows number:',((df_train.shape[0]) + (df_val.shape[0]) ) )"
   ]
  },
  {
   "cell_type": "code",
   "execution_count": 7,
   "metadata": {},
   "outputs": [
    {
     "name": "stdout",
     "output_type": "stream",
     "text": [
      "<class 'pandas.core.frame.DataFrame'>\n",
      "Index: 75682 entries, 0 to 999\n",
      "Data columns (total 4 columns):\n",
      " #   Column  Non-Null Count  Dtype \n",
      "---  ------  --------------  ----- \n",
      " 0   Num     75682 non-null  int64 \n",
      " 1   Name    75682 non-null  object\n",
      " 2   Value   75682 non-null  object\n",
      " 3   Tweet   74996 non-null  object\n",
      "dtypes: int64(1), object(3)\n",
      "memory usage: 2.9+ MB\n"
     ]
    }
   ],
   "source": [
    "#The coloums are the same: is possible join the datasets\n",
    "frames = [df_train, df_val]\n",
    "all_df = pd.concat(frames)\n",
    "\n",
    "#info about DataFrame\n",
    "all_df.info()"
   ]
  },
  {
   "cell_type": "code",
   "execution_count": 8,
   "metadata": {},
   "outputs": [
    {
     "name": "stdout",
     "output_type": "stream",
     "text": [
      "['Positive' 'Neutral' 'Negative' 'Irrelevant']\n"
     ]
    }
   ],
   "source": [
    "unique_values = all_df['Value'].unique()\n",
    "print(unique_values)"
   ]
  },
  {
   "cell_type": "code",
   "execution_count": 9,
   "metadata": {},
   "outputs": [
    {
     "name": "stdout",
     "output_type": "stream",
     "text": [
      "The number of tweets unique are: 70256\n",
      "Duplicates eliminated: 5426\n"
     ]
    },
    {
     "data": {
      "text/html": [
       "<div>\n",
       "<style scoped>\n",
       "    .dataframe tbody tr th:only-of-type {\n",
       "        vertical-align: middle;\n",
       "    }\n",
       "\n",
       "    .dataframe tbody tr th {\n",
       "        vertical-align: top;\n",
       "    }\n",
       "\n",
       "    .dataframe thead th {\n",
       "        text-align: right;\n",
       "    }\n",
       "</style>\n",
       "<table border=\"1\" class=\"dataframe\">\n",
       "  <thead>\n",
       "    <tr style=\"text-align: right;\">\n",
       "      <th></th>\n",
       "      <th>Value</th>\n",
       "      <th>Tweet</th>\n",
       "    </tr>\n",
       "  </thead>\n",
       "  <tbody>\n",
       "    <tr>\n",
       "      <th>0</th>\n",
       "      <td>Positive</td>\n",
       "      <td>im getting on borderlands and i will murder yo...</td>\n",
       "    </tr>\n",
       "  </tbody>\n",
       "</table>\n",
       "</div>"
      ],
      "text/plain": [
       "      Value                                              Tweet\n",
       "0  Positive  im getting on borderlands and i will murder yo..."
      ]
     },
     "execution_count": 9,
     "metadata": {},
     "output_type": "execute_result"
    }
   ],
   "source": [
    "#Needs only the Value and Tweet column \n",
    "df = all_df. drop(['Num','Name'], axis=1) \n",
    "df_count_row = df.shape[0]\n",
    "\n",
    "#Deletes the douplicates values\n",
    "df_clean = df. drop_duplicates(inplace=False)\n",
    "df_clean_count_row = df_clean.shape[0]\n",
    "\n",
    "print(\"The number of tweets unique are:\", df_clean_count_row)\n",
    "print(\"Duplicates eliminated:\", df_count_row - df_clean_count_row)\n",
    "\n",
    "df_clean.head(1)"
   ]
  },
  {
   "cell_type": "code",
   "execution_count": 10,
   "metadata": {},
   "outputs": [],
   "source": [
    "#Create 4 lists, one for each type: positive, neutral, negative and irrelevant + 1 list for nan values\n",
    "pos_tweets = []\n",
    "neut_tweets = []\n",
    "neg_tweets = []\n",
    "irr_tweets = []\n",
    "nan_tweets = []\n",
    "\n",
    "#Iterate over each row in the cleaned DataFrame\n",
    "for index, row in df_clean.iterrows():\n",
    "    tweet = row['Tweet']\n",
    "    value = row['Value']  # Assuming 'Value' contains labels like 'Positive', 'Neutral', or 'Negative'\n",
    "    \n",
    "    #Check if the tweet is NaN and append it to the nan_tweets list\n",
    "    if pd.isna(tweet):\n",
    "        nan_tweets.append(tweet)\n",
    "    else:\n",
    "        # Otherwise, append the tweet to the respective list based on its label\n",
    "        if value == 'Positive':\n",
    "            pos_tweets.append(tweet)\n",
    "        elif value == 'Neutral':\n",
    "            neut_tweets.append(tweet)\n",
    "        elif value == 'Negative':\n",
    "            neg_tweets.append(tweet)\n",
    "        elif value == 'Irrelevant':\n",
    "            irr_tweets.append(tweet)"
   ]
  },
  {
   "cell_type": "markdown",
   "metadata": {},
   "source": [
    "<a id = '1-2'></a>\n",
    "<h1 style=\"font-size: 150%;\">Tokenisation and text cleaning</h1>"
   ]
  },
  {
   "cell_type": "code",
   "execution_count": 11,
   "metadata": {},
   "outputs": [],
   "source": [
    "#Tokenization = breaks down a text into individual words or tokens\n",
    "tokenizer = TweetTokenizer(preserve_case = False, strip_handles = True, reduce_len = True)"
   ]
  },
  {
   "cell_type": "code",
   "execution_count": 12,
   "metadata": {},
   "outputs": [],
   "source": [
    "#Cleansing text from useless characters and removes them from the original text\n",
    "\n",
    "#obtains a list of stopwords in English\n",
    "stop_words = stopwords.words('english')\n",
    "\n",
    "#creates an instance of PorterStemmer, which enables text stemming using Porter's algorithm.\n",
    "#stemming words = reducing them to their root or basic form, removing any suffixes or prefixes\n",
    "stemmer = PorterStemmer()\n",
    "\n",
    "def clean_tweet(tweet):\n",
    "    #removes all dollar signs followed by a sequence of alphanumeric characters from the tweet\n",
    "    tweet = re.sub(r'\\$\\w*', '', tweet)  \n",
    "    #revomes all URL links in the tweet\n",
    "    tweet = re.sub(r'https?:\\/\\/.*[\\r\\n]*', '', tweet)  \n",
    "    #removes all '#' in the tweet\n",
    "    tweet = re.sub(r'#', '', tweet)  \n",
    "    #tokenize tweet = divide text into individual words or tokens\n",
    "    tweet_tokens = tokenizer.tokenize(tweet)\n",
    "    tweets_clean = []\n",
    "    for word in tweet_tokens:\n",
    "        #checks if the word is not a stopword and if it only consists of alphabetic characters.\n",
    "        if (word not in stop_words and word.isalpha()):\n",
    "            #applies stemming to each tokenized word in the tweet\n",
    "            stem_word = stemmer.stem(word)\n",
    "            tweets_clean.append(stem_word)\n",
    "    #returns the list of cleaned words \n",
    "    return tweets_clean"
   ]
  },
  {
   "cell_type": "markdown",
   "metadata": {},
   "source": [
    "<a id = '1-3'></a>\n",
    "<h1 style=\"font-size: 150%;\">Feature Extraction</h1>"
   ]
  },
  {
   "cell_type": "code",
   "execution_count": 13,
   "metadata": {},
   "outputs": [],
   "source": [
    "#Feature Extraction\n",
    "\n",
    "#this def calculates the frequency of each word in a list of words and returns a dictionary containing:\n",
    "#the words as keys and their frequencies as values.\n",
    "def get_word_frequency(words):\n",
    "    word_frequency = {}\n",
    "    for word in words:\n",
    "        if word in word_frequency:\n",
    "            word_frequency[word] += 1\n",
    "        else:\n",
    "            word_frequency[word] = 1\n",
    "    return word_frequency"
   ]
  },
  {
   "cell_type": "markdown",
   "metadata": {},
   "source": [
    "<a id = '2'></a>\n",
    "<h1 style=\"background-color:#eaeaea;font-family:Calibri;color:grey;font-size:250%;text-align:center;border-radius: 50px;padding:10px 30px\">The dataset</h1>"
   ]
  },
  {
   "cell_type": "markdown",
   "metadata": {},
   "source": [
    "<a id = '2-1'></a>\n",
    "<h1 style=\"font-size: 150%;\">Cleansing the tweets</h1>"
   ]
  },
  {
   "cell_type": "code",
   "execution_count": 14,
   "metadata": {},
   "outputs": [],
   "source": [
    "#pos_cln_tokens = [clean_tweet(tweet) for tweet in pos_tweets]\n",
    "pos_cln_tokens = []\n",
    "for tweet in pos_tweets:\n",
    "    pos_cln_tokens.append(clean_tweet(tweet))\n",
    "\n",
    "#neut_cln_tokens = [clean_tweet(tweet) for tweet in neut_tweets]    \n",
    "neut_cln_tokens = []\n",
    "for tweet in neut_tweets:\n",
    "    neut_cln_tokens.append(clean_tweet(tweet))\n",
    "\n",
    "#neg_cln_tokens = [clean_tweet(tweet) for tweet in neg_tweets]    \n",
    "neg_cln_tokens = []\n",
    "for tweet in neg_tweets:\n",
    "    neg_cln_tokens.append(clean_tweet(tweet))\n",
    "\n",
    "#irr_cln_tokens = [clean_tweet(tweet) for tweet in irr_tweets]    \n",
    "irr_cln_tokens = []\n",
    "for tweet in irr_tweets:\n",
    "    irr_cln_tokens.append(clean_tweet(tweet))"
   ]
  },
  {
   "cell_type": "markdown",
   "metadata": {},
   "source": [
    "<a id = '2-2'></a>\n",
    "<h1 style=\"font-size: 150%;\">Extracts the word frequency features</h1>"
   ]
  },
  {
   "cell_type": "code",
   "execution_count": 15,
   "metadata": {},
   "outputs": [],
   "source": [
    "#pos_feat = [(get_word_frequency(tokens), 'Positive') for tokens in pos_cln_tokens]\n",
    "pos_feat = []\n",
    "for tokens in pos_cln_tokens:\n",
    "    pos_feat.append((get_word_frequency(tokens), 'Positive'))\n",
    "\n",
    "#neut_feat = [(get_word_frequency(tokens), 'Positive') for tokens in neut_cln_tokens]\n",
    "neut_feat = []\n",
    "for tokens in neut_cln_tokens:\n",
    "    neut_feat.append((get_word_frequency(tokens), 'Neutral'))\n",
    "\n",
    "#neg_feat = [(get_word_frequency(tokens), 'Negative') for tokens in neg_cln_tokens] \n",
    "neg_feat = []\n",
    "for tokens in neg_cln_tokens:\n",
    "    neg_feat.append((get_word_frequency(tokens), 'Negative'))\n",
    "\n",
    "#irr_feat = [(get_word_frequency(tokens), 'Irrelevant') for tokens in irr_cln_tokens] \n",
    "irr_feat = []\n",
    "for tokens in irr_cln_tokens:\n",
    "    irr_feat.append((get_word_frequency(tokens), 'Irrelevant'))\n",
    "\n",
    "all_feat = pos_feat + neut_feat + neg_feat + irr_feat"
   ]
  },
  {
   "cell_type": "code",
   "execution_count": 60,
   "metadata": {},
   "outputs": [
    {
     "name": "stdout",
     "output_type": "stream",
     "text": [
      "Number of positive examples: 19271\n",
      "Number of neutral examples: 17281\n",
      "Number of negative examples: 21329\n",
      "Number of irrelevant examples: 12371\n",
      "\n",
      "Positive ratio: 27 %\n",
      "Neutral ratio: 25 %\n",
      "Negative ratio: 30 %\n",
      "Irrelevant ratio: 18 %\n",
      "\n",
      "The dataset is NOT balanced\n"
     ]
    }
   ],
   "source": [
    "#Verification of data balance\n",
    "\n",
    "#Label's count \n",
    "num_pos = sum(1 for _, label in all_feat if label == 'Positive')\n",
    "num_neut = sum(1 for _, label in all_feat if label == 'Neutral')\n",
    "num_neg = sum(1 for _, label in all_feat if label == 'Negative')\n",
    "num_irr = sum(1 for _, label in all_feat if label == 'Irrelevant')\n",
    "\n",
    "#View distribution\n",
    "print('Number of positive examples:', num_pos)\n",
    "print('Number of neutral examples:', num_neut)\n",
    "print('Number of negative examples:', num_neg)\n",
    "print('Number of irrelevant examples:', num_irr)\n",
    "\n",
    "#Calculation of proportions\n",
    "total = len(all_feat)\n",
    "pos_ratio = round((num_pos / total) * 100)\n",
    "neut_ratio = round((num_neut / total) * 100)\n",
    "neg_ratio = round((num_neg / total) * 100)\n",
    "irr_ratio = round((num_irr / total) * 100)\n",
    "\n",
    "print('\\nPositive ratio:', pos_ratio,'%')\n",
    "print('Neutral ratio:', neut_ratio,'%')\n",
    "print('Negative ratio:', neg_ratio,'%')\n",
    "print('Irrelevant ratio:', irr_ratio,'%')\n",
    "\n",
    "if pos_ratio >= 50:\n",
    "    print ('\\nThe dataset is balanced')\n",
    "else:\n",
    "    print ('\\nThe dataset is NOT balanced')"
   ]
  },
  {
   "cell_type": "code",
   "execution_count": 59,
   "metadata": {},
   "outputs": [
    {
     "data": {
      "image/png": "[encoded data removed]",
      "text/plain": [
       "<Figure size 400x300 with 1 Axes>"
      ]
     },
     "metadata": {},
     "output_type": "display_data"
    }
   ],
   "source": [
    "#graphic's labels\n",
    "categories = ['Positive', 'Neutral', 'Negative','Irrelevant']\n",
    "values = [pos_ratio, neut_ratio, neg_ratio, irr_ratio]\n",
    "colors = ['green', 'blue', 'red', 'grey']\n",
    "\n",
    "fig, ax = plt.subplots(figsize=(4, 3))\n",
    "ax.bar(categories, values, color=colors)\n",
    "ax.set_ylabel('Count')\n",
    "ax.set_ylim(0, 100)  \n",
    "ax.set_title('Number of labels', weight = 'bold')\n",
    "ax.spines['top'].set_visible(False)\n",
    "ax.spines['right'].set_visible(False)\n",
    "\n",
    "for i, value in enumerate(values):\n",
    "    percentage = value / sum(values) * 100\n",
    "    ax.text(i, value + 5, f'{percentage:.0f}%', ha = 'center', weight = 'bold')\n",
    "plt.tight_layout()\n",
    "plt.show()"
   ]
  },
  {
   "cell_type": "code",
   "execution_count": 67,
   "metadata": {},
   "outputs": [
    {
     "name": "stdout",
     "output_type": "stream",
     "text": [
      "...but if we aggregate the labels, reducing them to two: positive + neutrale and negative + irrelevant...\n",
      "\n",
      "Positive ratio: 52 %\n",
      "Negative ratio: 48 %\n",
      "\n",
      "The dataset seems balanced\n"
     ]
    },
    {
     "data": {
      "image/png": "[encoded data removed]",
      "text/plain": [
       "<Figure size 400x300 with 1 Axes>"
      ]
     },
     "metadata": {},
     "output_type": "display_data"
    }
   ],
   "source": [
    "print('...but if we aggregate the labels, reducing them to two: positive + neutrale and negative + irrelevant...')\n",
    "\n",
    "#Calculation of proportions aggregated\n",
    "total = len(all_feat)\n",
    "pos_ratio_agg = round(((num_pos + num_neut) / total) * 100)\n",
    "neg_ratio_agg = round(((num_neg + num_irr) / total) * 100)\n",
    "\n",
    "print('\\nPositive ratio:', pos_ratio_agg,'%')\n",
    "print('Negative ratio:', neg_ratio_agg,'%')\n",
    "\n",
    "if pos_ratio_agg >= 50:\n",
    "    print ('\\nThe dataset seems balanced')\n",
    "else:\n",
    "    print ('\\nThe dataset is NOT balanced')\n",
    "\n",
    "#graphic's labels\n",
    "categories = ['Positive', 'Negative']\n",
    "values = [pos_ratio_agg, neg_ratio_agg]\n",
    "colors = ['green', 'red']\n",
    "\n",
    "fig, ax = plt.subplots(figsize=(4, 3))\n",
    "ax.bar(categories, values, color=colors)\n",
    "ax.set_ylabel('Count')\n",
    "ax.set_ylim(0, 100)  \n",
    "ax.set_title('Number of labels', weight = 'bold')\n",
    "ax.spines['top'].set_visible(False)\n",
    "ax.spines['right'].set_visible(False)\n",
    "\n",
    "for i, value in enumerate(values):\n",
    "    percentage = value / sum(values) * 100\n",
    "    ax.text(i, value + 5, f'{percentage:.0f}%', ha = 'center', weight = 'bold')\n",
    "plt.tight_layout()\n",
    "plt.show()"
   ]
  },
  {
   "cell_type": "markdown",
   "metadata": {},
   "source": [
    "<a id = '2-3'></a>\n",
    "<h1 style=\"font-size: 150%;\">Splitting the Dataset</h1>"
   ]
  },
  {
   "cell_type": "code",
   "execution_count": 68,
   "metadata": {},
   "outputs": [],
   "source": [
    "#Slitting and label examples with train for 80% and test for 20%\n",
    "train_set, test_set = train_test_split(all_feat, test_size = 0.2, random_state = 42)"
   ]
  },
  {
   "cell_type": "markdown",
   "metadata": {},
   "source": [
    "<a id = '3'></a>\n",
    "<h1 style=\"background-color:#eaeaea;font-family:Calibri;color:violet;font-size:250%;text-align:center;border-radius: 50px;padding:10px 30px\">The model</h1>"
   ]
  },
  {
   "cell_type": "markdown",
   "metadata": {},
   "source": [
    "<a id = '3-1'></a>\n",
    "<h1 style=\"font-size: 150%;\">Training the model</h1>"
   ]
  },
  {
   "cell_type": "code",
   "execution_count": 69,
   "metadata": {},
   "outputs": [],
   "source": [
    "#Trains a Naive Bayes classifier using the 'train_set' training set\n",
    "classifier = NaiveBayesClassifier.train(train_set)"
   ]
  },
  {
   "cell_type": "markdown",
   "metadata": {},
   "source": [
    "<a id = '3-2'></a>\n",
    "<h1 style=\"font-size: 150%;\">Test the model and calculates the accuracy</h1>"
   ]
  },
  {
   "cell_type": "code",
   "execution_count": 72,
   "metadata": {},
   "outputs": [
    {
     "name": "stdout",
     "output_type": "stream",
     "text": [
      "The Accuracy is: 72.64 %\n"
     ]
    }
   ],
   "source": [
    "def get_accuracy(test_set, classifier):\n",
    "    correct = 0\n",
    "    for (features, label) in test_set:\n",
    "        prediction = classifier.classify(features)\n",
    "        if prediction == label:\n",
    "            correct += 1\n",
    "    accuracy = float(correct) / len(test_set)\n",
    "    return accuracy\n",
    "\n",
    "accuracy = get_accuracy(test_set, classifier)\n",
    "print('The Accuracy is:', round(accuracy * 100, 2),'%')"
   ]
  },
  {
   "cell_type": "markdown",
   "metadata": {},
   "source": [
    "<a id = '3-3'></a>\n",
    "<h1 style=\"font-size: 150%;\">Test the model on new data</h1>"
   ]
  },
  {
   "cell_type": "code",
   "execution_count": 71,
   "metadata": {},
   "outputs": [],
   "source": [
    "def predict_sentiment(tweet):\n",
    "    cleaned_tweet = clean_tweet(tweet)\n",
    "    features = get_word_frequency(cleaned_tweet)\n",
    "    return classifier.classify(features)"
   ]
  },
  {
   "cell_type": "markdown",
   "metadata": {},
   "source": [
    "Test examples:"
   ]
  },
  {
   "cell_type": "code",
   "execution_count": 41,
   "metadata": {},
   "outputs": [
    {
     "name": "stdout",
     "output_type": "stream",
     "text": [
      "Test:\n",
      "\n",
      "The tweet -> \" This movie was fantastic!I would like to watch it again \" is  Positive\n",
      "\n",
      "The tweet -> \" This chicken was nasty! \" is Irrelevant --> WRONG! Should be negative\n",
      "\n",
      "The tweet -> \" I'm in love the dogs \" is Positive --> Right!\n",
      "\n",
      "The tweet -> \" I'm a neutral comment \" is Neutral\n",
      "\n",
      "The tweet -> \" This pic is so bad! \" is Negative\n"
     ]
    }
   ],
   "source": [
    "print('\\nTest:')\n",
    "#Example of right positive result\n",
    "tweet1 = 'This movie was fantastic!I would like to watch it again'\n",
    "print('\\nThe tweet -> \"',tweet1,'\" is ', predict_sentiment(tweet1))\n",
    "\n",
    "#Example of WRONG negative result\n",
    "tweet2 = \"This chicken was nasty!\"\n",
    "print('\\nThe tweet -> \"',tweet2,'\" is', predict_sentiment(tweet2),'--> WRONG! Should be negative')\n",
    "\n",
    "#Example of right result\n",
    "tweet3 = \"I'm in love the dogs\"\n",
    "print('\\nThe tweet -> \"',tweet3,'\" is', predict_sentiment(tweet3),'--> Right!')\n",
    "\n",
    "#Example of right result\n",
    "tweet4 = \"I'm a neutral comment\"\n",
    "print('\\nThe tweet -> \"',tweet4,'\" is', predict_sentiment(tweet4))\n",
    "\n",
    "#Example of WRONG negative result\n",
    "tweet5 = \"This pic is so bad!\"\n",
    "print('\\nThe tweet -> \"',tweet5,'\" is', predict_sentiment(tweet5))"
   ]
  },
  {
   "cell_type": "markdown",
   "metadata": {},
   "source": [
    "#---------------------------------------------------------------#\n",
    "\n",
    "If the labes has been only positive (positive + neutral) and negative (negative + irrelevant) the results will be:\n",
    "\n",
    "The tweet -> \" This movie was fantastic!I would like to watch it again \" is  Positive \n",
    "\n",
    "The tweet -> \" This chicken was nasty! \" is Negative\n",
    "\n",
    "The tweet -> \" I'm in love the dogs \" is Positive\n",
    "\n",
    "The tweet -> \" I'm a neutral comment \" is Positive\n",
    "\n",
    "The tweet -> \" This pic is so bad! \" is Negative"
   ]
  }
 ],
 "metadata": {
  "kernelspec": {
   "display_name": "Python 3",
   "language": "python",
   "name": "python3"
  },
  "language_info": {
   "codemirror_mode": {
    "name": "ipython",
    "version": 3
   },
   "file_extension": ".py",
   "mimetype": "text/x-python",
   "name": "python",
   "nbconvert_exporter": "python",
   "pygments_lexer": "ipython3",
   "version": "3.9.19"
  }
 },
 "nbformat": 4,
 "nbformat_minor": 2
}
