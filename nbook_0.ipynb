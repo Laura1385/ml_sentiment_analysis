{
 "cells": [
  {
   "cell_type": "code",
   "execution_count": 44,
   "metadata": {},
   "outputs": [
    {
     "name": "stdout",
     "output_type": "stream",
     "text": [
      "The current python's version is:  3.9.19\n",
      "\n",
      "The path of the current Python interpreter (should be a virtual env!):\n",
      " /Users/laura/Progetti_Python/000_Progetti_in_corso/ML_SentimentAnalysisX/.v_env_mlX/bin/python\n"
     ]
    }
   ],
   "source": [
    "#Check python's version\n",
    "from platform import python_version\n",
    "print(\"The current python's version is: \",python_version())\n",
    "\n",
    "#Check the path of the current Python interpreter used to execute the script.\n",
    "import sys\n",
    "print(\"\\nThe path of the current Python interpreter (should be a virtual env!):\\n\",sys.executable)"
   ]
  },
  {
   "cell_type": "markdown",
   "metadata": {},
   "source": [
    "<h1 style=\"background-color:#eaeaea;font-family:Calibri;color:#fe0b50;font-size:200%;text-align:center;border-radius: 50px;padding: 10px\">Machine Learning Sentiment Analysis X (Twitter)</h1>"
   ]
  },
  {
   "cell_type": "markdown",
   "metadata": {},
   "source": [
    "Machine Learning Sentiment Analysis X (Twitter)"
   ]
  },
  {
   "cell_type": "markdown",
   "metadata": {},
   "source": [
    "## The Project \n",
    "\n",
    "The project focuses on analysing the sentiment of tweets, using a machine learning technique. \n",
    "The objective is to determine the sentiment expressed within tweets using the Naive Bayes Classifier algorithm.\n",
    "This algorithm relies on Bayes' theorem and is termed 'naive' based on its assumption of conditional independence among features. The Naive Bayes Classifier is particularly effective with small datasets and weakly related features.\n",
    "(The sentiment analysis is most commonly used on short texts such as reviews, tweets or messages; it is not suitable for analysing longer texts such as books.)\n",
    "\n",
    "*Thanks to: https://medium.com/@oliwills8373/guide-to-sentiment-analysis-with-machine-learning-step-by-step-explanation-with-code-examples-420156fec010"
   ]
  },
  {
   "cell_type": "markdown",
   "metadata": {},
   "source": [
    "<h1 style=\"background-color:#eaeaea;font-family:Calibri;color:orange;font-size:250%;text-align:center;border-radius:50px;padding:10px 30px;\">Index</h1>"
   ]
  },
  {
   "cell_type": "markdown",
   "metadata": {},
   "source": [
    "INDEX\n",
    "\n",
    "- [Libraries & Utilities](#0)\n",
    "\n",
    "- [Data Preprocessing](#1)\n",
    "    - [Importing Data](#1-1)\n",
    "    - [Tokenisation and text cleaning](#1-2)\n",
    "    - [Feature Extraction](#1-3)\n",
    "- [The Dataset](#2)\n",
    "    - [Cleansing the tweets](#2-1)\n",
    "    - [Extracts the word frequency features](#2-2)\n",
    "    - [Splitting the dataset](#2-3)\n",
    "- [The Model](#3)\n",
    "    - [Training the model](#3-1)\n",
    "    - [Test the model and calculates the accuracy](#3-2)\n",
    "    - [Test the model on new data](#3-3)\n"
   ]
  },
  {
   "cell_type": "markdown",
   "metadata": {},
   "source": [
    "<a id = '0'></a>\n",
    "<h1 style=\"background-color:#eaeaea;font-family:Calibri;color:blue;font-size:250%;text-align:center;border-radius:50px;padding:10px 30px;\">Libraries</h1>"
   ]
  },
  {
   "cell_type": "markdown",
   "metadata": {},
   "source": [
    "<a id = '0'></a>\n",
    "<h1 style=\"font-size: 150%;\">Libraries & Utilities</h1>"
   ]
  },
  {
   "cell_type": "code",
   "execution_count": 45,
   "metadata": {},
   "outputs": [
    {
     "name": "stderr",
     "output_type": "stream",
     "text": [
      "[nltk_data] Downloading package stopwords to /Users/laura/nltk_data...\n",
      "[nltk_data]   Package stopwords is already up-to-date!\n"
     ]
    }
   ],
   "source": [
    "#Install all the libraries the project needs\n",
    "#pip install -r requirements.txt \n",
    "\n",
    "import nltk\n",
    "import re\n",
    "import pandas as pd\n",
    "import openpyxl\n",
    "import matplotlib.pyplot as plt\n",
    "from nltk.corpus import twitter_samples\n",
    "from nltk.tokenize import TweetTokenizer\n",
    "from nltk.stem import PorterStemmer\n",
    "from nltk.corpus import stopwords\n",
    "nltk.download('stopwords') #collection of stopwords\n",
    "from sklearn.model_selection import train_test_split\n",
    "from nltk.classify import NaiveBayesClassifier\n",
    "\n",
    "import warnings #only for os\n",
    "warnings.filterwarnings(\"ignore\") #only for os"
   ]
  },
  {
   "cell_type": "markdown",
   "metadata": {},
   "source": [
    "Libraries:\n",
    "1. ***nltk***\n",
    "-> Used for natural language processing\n",
    "2. ***re***\n",
    "-> Used to regular expression\n",
    "3. ***pandas***\n",
    "-> Used to parse data; among its main functionalities is the creation of the data structure called DataFrame.\n",
    "4. ***openpyxl***\n",
    "-> Used to open the data structure\n",
    "5. ***matplotlib***\n",
    "-> Used to plot graphs\n",
    "6. ***twitter_samples***\n",
    "-> Used to import a sample of tweets for natural language analysis\n",
    "7. ***TweetTokenizer***\n",
    "-> Used to tokenize tweets into words\n",
    "8. ***PorterStemmer***\n",
    "-> Used to stem words to their roots form\n",
    "9. ***stopwords***\n",
    "-> Used to remove stopwords from tweets - collection of common words that are often removed during text preprocessing\n",
    "10. ***train_test_split***\n",
    "-> Used to split the dataset into train and test sets\n",
    "11. ***NaiveBayesClassifier***\n",
    "-> Used to train a Naive Bayes classifier for text classification\n",
    "12. ***warnings***\n",
    "-> Used to handle warnings during code execution."
   ]
  },
  {
   "cell_type": "markdown",
   "metadata": {},
   "source": [
    "<a id = '1'></a>\n",
    "<h1 style=\"background-color:#eaeaea;font-family:Calibri;color:green;font-size:250%;text-align:center;border-radius: 50px;padding:10px 30px\">Data Preprocessing</h1>"
   ]
  },
  {
   "cell_type": "markdown",
   "metadata": {},
   "source": [
    "<a id = '1-1'></a>\n",
    "<h1 style=\"font-size: 150%;\">Importing Data</h1>"
   ]
  },
  {
   "cell_type": "code",
   "execution_count": 46,
   "metadata": {},
   "outputs": [
    {
     "name": "stderr",
     "output_type": "stream",
     "text": [
      "[nltk_data] Downloading package twitter_samples to\n",
      "[nltk_data]     /Users/laura/nltk_data...\n",
      "[nltk_data]   Package twitter_samples is already up-to-date!\n"
     ]
    },
    {
     "data": {
      "text/plain": [
       "True"
      ]
     },
     "execution_count": 46,
     "metadata": {},
     "output_type": "execute_result"
    }
   ],
   "source": [
    "#Loading data\n",
    "nltk.download('twitter_samples') #collection of tweets "
   ]
  },
  {
   "cell_type": "code",
   "execution_count": 47,
   "metadata": {},
   "outputs": [
    {
     "name": "stdout",
     "output_type": "stream",
     "text": [
      "List of files in twitter_samples:\n",
      "negative_tweets.json\n",
      "positive_tweets.json\n",
      "tweets.20150430-223406.json\n"
     ]
    }
   ],
   "source": [
    "#View list of files in twitter_samples\n",
    "file_list = twitter_samples.fileids()\n",
    "\n",
    "print(\"List of files in twitter_samples:\")\n",
    "for file_id in file_list:\n",
    "    print(file_id)"
   ]
  },
  {
   "cell_type": "code",
   "execution_count": 48,
   "metadata": {},
   "outputs": [
    {
     "name": "stdout",
     "output_type": "stream",
     "text": [
      "Examples of positive tweets:\n",
      "#FollowFriday @France_Inte @PKuchly57 @Milipol_Paris for being top engaged members in my community this week :)\n",
      "\n",
      "Examples of positive tweets:\n",
      "@Lamb2ja Hey James! How odd :/ Please call our Contact Centre on 02392441234 and we will be able to assist you :) Many thanks!\n",
      "\n",
      "Examples of positive tweets:\n",
      "@DespiteOfficial we had a listen last night :) As You Bleed is an amazing track. When are you in Scotland?!\n",
      "\n",
      "- * - * - *\n",
      "\n",
      "Examples of negative tweets:\n",
      "hopeless for tmr :(\n",
      "\n",
      "\n",
      "Examples of negative tweets:\n",
      "Everything in the kids section of IKEA is so cute. Shame I'm nearly 19 in 2 months :(\n",
      "\n",
      "\n",
      "Examples of negative tweets:\n",
      "@Hegelbon That heart sliding into the waste basket. :(\n",
      "\n"
     ]
    }
   ],
   "source": [
    "#Variables creation\n",
    "pos_tweets = twitter_samples.strings('positive_tweets.json')\n",
    "neg_tweets = twitter_samples.strings('negative_tweets.json')\n",
    "\n",
    "#Examples\n",
    "for tweet in pos_tweets[:3]:\n",
    "    print(\"Examples of positive tweets:\")\n",
    "    print(tweet)\n",
    "    print() \n",
    "\n",
    "print(\"- * - * - *\")\n",
    "\n",
    "for tweet in neg_tweets[:3]:\n",
    "    print(\"\\nExamples of negative tweets:\")\n",
    "    print(tweet)\n",
    "    print() "
   ]
  },
  {
   "cell_type": "code",
   "execution_count": 49,
   "metadata": {},
   "outputs": [],
   "source": [
    "#Create a new df for take a look to the data\n",
    "pos_tweets_df = pd.DataFrame(pos_tweets, columns=['Tweet'])\n",
    "neg_tweets_df = pd.DataFrame(neg_tweets, columns=['Tweet'])\n",
    "\n",
    "#Export to Excel\n",
    "pos_tweets_df.to_excel('pos_tweets.xlsx', index=False)\n",
    "neg_tweets_df.to_excel('neg_tweets.xlsx', index=False)"
   ]
  },
  {
   "cell_type": "markdown",
   "metadata": {},
   "source": [
    "<a id = '1-2'></a>\n",
    "<h1 style=\"font-size: 150%;\">Tokenisation and text cleaning</h1>"
   ]
  },
  {
   "cell_type": "code",
   "execution_count": 50,
   "metadata": {},
   "outputs": [],
   "source": [
    "#Tokenization = breaks down a text into individual words or tokens\n",
    "tokenizer = TweetTokenizer(preserve_case = False, strip_handles = True, reduce_len = True)"
   ]
  },
  {
   "cell_type": "code",
   "execution_count": 51,
   "metadata": {},
   "outputs": [],
   "source": [
    "#Cleansing text from useless characters and removes them from the original text\n",
    "\n",
    "#obtains a list of stopwords in English\n",
    "stop_words = stopwords.words('english')\n",
    "\n",
    "#creates an instance of PorterStemmer, which enables text stemming using Porter's algorithm.\n",
    "#stemming words = reducing them to their root or basic form, removing any suffixes or prefixes\n",
    "stemmer = PorterStemmer()\n",
    "\n",
    "def clean_tweet(tweet):\n",
    "    #removes all dollar signs followed by a sequence of alphanumeric characters from the tweet\n",
    "    tweet = re.sub(r'\\$\\w*', '', tweet)  \n",
    "    #revomes all URL links in the tweet\n",
    "    tweet = re.sub(r'https?:\\/\\/.*[\\r\\n]*', '', tweet)  \n",
    "    #removes all '#' in the tweet\n",
    "    tweet = re.sub(r'#', '', tweet)  \n",
    "    #tokenize tweet = divide text into individual words or tokens\n",
    "    tweet_tokens = tokenizer.tokenize(tweet)\n",
    "    tweets_clean = []\n",
    "    for word in tweet_tokens:\n",
    "        #checks if the word is not a stopword and if it only consists of alphabetic characters.\n",
    "        if (word not in stop_words and word.isalpha()):\n",
    "            #applies stemming to each tokenized word in the tweet\n",
    "            stem_word = stemmer.stem(word)\n",
    "            tweets_clean.append(stem_word)\n",
    "    #returns the list of cleaned words \n",
    "    return tweets_clean"
   ]
  },
  {
   "cell_type": "markdown",
   "metadata": {},
   "source": [
    "<a id = '1-3'></a>\n",
    "<h1 style=\"font-size: 150%;\">Feature Extraction</h1>"
   ]
  },
  {
   "cell_type": "code",
   "execution_count": 52,
   "metadata": {},
   "outputs": [],
   "source": [
    "#Feature Extraction\n",
    "\n",
    "#this def calculates the frequency of each word in a list of words and returns a dictionary containing:\n",
    "#the words as keys and their frequencies as values.\n",
    "def get_word_frequency(words):\n",
    "    word_frequency = {}\n",
    "    for word in words:\n",
    "        if word in word_frequency:\n",
    "            word_frequency[word] += 1\n",
    "        else:\n",
    "            word_frequency[word] = 1\n",
    "    return word_frequency"
   ]
  },
  {
   "cell_type": "markdown",
   "metadata": {},
   "source": [
    "<a id = '2'></a>\n",
    "<h1 style=\"background-color:#eaeaea;font-family:Calibri;color:grey;font-size:250%;text-align:center;border-radius: 50px;padding:10px 30px\">The dataset</h1>"
   ]
  },
  {
   "cell_type": "markdown",
   "metadata": {},
   "source": [
    "<a id = '2-1'></a>\n",
    "<h1 style=\"font-size: 150%;\">Cleansing the tweets</h1>"
   ]
  },
  {
   "cell_type": "code",
   "execution_count": 53,
   "metadata": {},
   "outputs": [],
   "source": [
    "#pos_cln_tokens = [clean_tweet(tweet) for tweet in pos_tweets]\n",
    "pos_cln_tokens = []\n",
    "for tweet in pos_tweets:\n",
    "    pos_cln_tokens.append(clean_tweet(tweet))\n",
    "\n",
    "#neg_cln_tokens = [clean_tweet(tweet) for tweet in neg_tweets]    \n",
    "neg_cln_tokens = []\n",
    "for tweet in neg_tweets:\n",
    "    neg_cln_tokens.append(clean_tweet(tweet))"
   ]
  },
  {
   "cell_type": "markdown",
   "metadata": {},
   "source": [
    "<a id = '2-2'></a>\n",
    "<h1 style=\"font-size: 150%;\">Extracts the word frequency features</h1>"
   ]
  },
  {
   "cell_type": "code",
   "execution_count": 54,
   "metadata": {},
   "outputs": [],
   "source": [
    "#pos_feat = [(get_word_frequency(tokens), 'Positive') for tokens in pos_cln_tokens]\n",
    "pos_feat = []\n",
    "for tokens in pos_cln_tokens:\n",
    "    pos_feat.append((get_word_frequency(tokens), 'Positive'))\n",
    "\n",
    "#neg_feat = [(get_word_frequency(tokens), 'Negative') for tokens in neg_cln_tokens] \n",
    "neg_feat = []\n",
    "for tokens in neg_cln_tokens:\n",
    "    neg_feat.append((get_word_frequency(tokens), 'Negative'))\n",
    "\n",
    "all_feat = pos_feat + neg_feat"
   ]
  },
  {
   "cell_type": "code",
   "execution_count": 55,
   "metadata": {},
   "outputs": [
    {
     "name": "stdout",
     "output_type": "stream",
     "text": [
      "Number of positive examples: 5000\n",
      "Number of negative examples: 5000\n",
      "\n",
      "Positive ratio: 50 %\n",
      "Negative ratio: 50 %\n",
      "\n",
      "The dataset is balanced\n"
     ]
    }
   ],
   "source": [
    "#Verification of data balance\n",
    "\n",
    "#Label's count \n",
    "num_pos = sum(1 for _, label in all_feat if label == 'Positive')\n",
    "num_neg = sum(1 for _, label in all_feat if label == 'Negative')\n",
    "\n",
    "#View distribution\n",
    "print('Number of positive examples:', num_pos)\n",
    "print('Number of negative examples:', num_neg)\n",
    "\n",
    "#Calculation of proportions\n",
    "total = len(all_feat)\n",
    "pos_ratio = round((num_pos / total) * 100)\n",
    "neg_ratio = round((num_neg / total) * 100)\n",
    "\n",
    "print('\\nPositive ratio:', pos_ratio,'%')\n",
    "print('Negative ratio:', neg_ratio,'%')\n",
    "\n",
    "if pos_ratio >= 50:\n",
    "    print ('\\nThe dataset is balanced')\n",
    "else:\n",
    "    print ('\\nThe dataset is not balanced')"
   ]
  },
  {
   "cell_type": "code",
   "execution_count": 87,
   "metadata": {},
   "outputs": [
    {
     "data": {
      "image/png": "[encoded data removed]",
      "text/plain": [
       "<Figure size 300x300 with 1 Axes>"
      ]
     },
     "metadata": {},
     "output_type": "display_data"
    }
   ],
   "source": [
    "#graphic's labels\n",
    "categories = ['Positive', 'Negative']\n",
    "values = [pos_ratio, neg_ratio]\n",
    "colors = ['green', 'red']\n",
    "\n",
    "fig, ax = plt.subplots(figsize=(3, 3))\n",
    "ax.bar(categories, values, color=colors)\n",
    "ax.set_ylabel('Count')\n",
    "ax.set_ylim(0, 100)  \n",
    "ax.set_title('Number of labels', weight = 'bold')\n",
    "ax.spines['top'].set_visible(False)\n",
    "ax.spines['right'].set_visible(False)\n",
    "\n",
    "for i, value in enumerate(values):\n",
    "    percentage = value / sum(values) * 100\n",
    "    ax.text(i, value + 5, f'{percentage:.0f}%', ha = 'center', weight = 'bold')\n",
    "plt.tight_layout()\n",
    "plt.show()"
   ]
  },
  {
   "cell_type": "markdown",
   "metadata": {},
   "source": [
    "<a id = '2-3'></a>\n",
    "<h1 style=\"font-size: 150%;\">Splitting the Dataset</h1>"
   ]
  },
  {
   "cell_type": "code",
   "execution_count": 56,
   "metadata": {},
   "outputs": [],
   "source": [
    "#Slitting and label examples with train for 80% and test for 20%\n",
    "train_set, test_set = train_test_split(all_feat, test_size = 0.2, random_state = 42)"
   ]
  },
  {
   "cell_type": "markdown",
   "metadata": {},
   "source": [
    "<a id = '3'></a>\n",
    "<h1 style=\"background-color:#eaeaea;font-family:Calibri;color:violet;font-size:250%;text-align:center;border-radius: 50px;padding:10px 30px\">The model</h1>"
   ]
  },
  {
   "cell_type": "markdown",
   "metadata": {},
   "source": [
    "<a id = '3-1'></a>\n",
    "<h1 style=\"font-size: 150%;\">Training the model</h1>"
   ]
  },
  {
   "cell_type": "code",
   "execution_count": 57,
   "metadata": {},
   "outputs": [],
   "source": [
    "#Trains a Naive Bayes classifier using the 'train_set' training set\n",
    "classifier = NaiveBayesClassifier.train(train_set)"
   ]
  },
  {
   "cell_type": "markdown",
   "metadata": {},
   "source": [
    "The Naive Bayes classifier is a supervised learning model that is based on the application of Bayes theorem with the 'naive' assumption of conditional independence between features. Features are the frequencies of words in tweets. The model is trained using the train function of NLTK's NaiveBayesClassifier, which takes as input the features extracted from the tweets in the training set and their labels."
   ]
  },
  {
   "cell_type": "markdown",
   "metadata": {},
   "source": [
    "<a id = '3-2'></a>\n",
    "<h1 style=\"font-size: 150%;\">Test the model and calculates the accuracy</h1>"
   ]
  },
  {
   "cell_type": "code",
   "execution_count": 88,
   "metadata": {},
   "outputs": [
    {
     "name": "stdout",
     "output_type": "stream",
     "text": [
      "The Accuracy is: 74.1 %\n"
     ]
    }
   ],
   "source": [
    "def get_accuracy(test_set, classifier):\n",
    "    correct = 0\n",
    "    for (features, label) in test_set:\n",
    "        prediction = classifier.classify(features)\n",
    "        if prediction == label:\n",
    "            correct += 1\n",
    "    accuracy = float(correct) / len(test_set)\n",
    "    return accuracy\n",
    "\n",
    "accuracy = get_accuracy(test_set, classifier)\n",
    "print('The Accuracy is:', round(accuracy * 100, 2),'%')"
   ]
  },
  {
   "cell_type": "markdown",
   "metadata": {},
   "source": [
    "The accuracy is calculated by comparing the model's predictions with the actual labels in the test set. For each tweet in the test set, the model predicts the sentiment (positive or negative) and compares this prediction with the actual label of the tweet. Accuracy is calculated as the fraction of correctly classified tweets compared to the total number of tweets in the test set."
   ]
  },
  {
   "cell_type": "markdown",
   "metadata": {},
   "source": [
    "<a id = '3-3'></a>\n",
    "<h1 style=\"font-size: 150%;\">Test the model on new data</h1>"
   ]
  },
  {
   "cell_type": "code",
   "execution_count": 59,
   "metadata": {},
   "outputs": [],
   "source": [
    "def predict_sentiment(tweet):\n",
    "    cleaned_tweet = clean_tweet(tweet)\n",
    "    features = get_word_frequency(cleaned_tweet)\n",
    "    return classifier.classify(features)"
   ]
  },
  {
   "cell_type": "markdown",
   "metadata": {},
   "source": [
    "The code defines a predict_sentiment function to classify the sentiment of a new, unlabelled tweet. This function takes as input the text of the tweet, cleans it using the same data cleaning procedure used during the training phase, extracts the features (word frequencies) from the cleaned tweet and uses the trained classifier to predict whether the sentiment of the tweet is positive or negative. "
   ]
  },
  {
   "cell_type": "markdown",
   "metadata": {},
   "source": [
    "Test examples:"
   ]
  },
  {
   "cell_type": "code",
   "execution_count": 60,
   "metadata": {},
   "outputs": [
    {
     "name": "stdout",
     "output_type": "stream",
     "text": [
      "\n",
      "Test:\n",
      "\n",
      "The tweet -> \" This movie was fantastic!I would like to watch it again \" is  Positive\n",
      "\n",
      "The tweet -> \" This chicken was nasty! \" is Negative\n",
      "\n",
      "The tweet -> \" I'm in love the dogs \" is Negative --> WRONG! Should be positive!\n",
      "\n",
      "The tweet -> \" I'm a neutral comment \" is Positive\n",
      "\n",
      "The tweet -> \" This pic is so bad! \" is Negative\n"
     ]
    }
   ],
   "source": [
    "print('\\nTest:')\n",
    "#Example of right positive result\n",
    "tweet1 = 'This movie was fantastic!I would like to watch it again'\n",
    "print('\\nThe tweet -> \"',tweet1,'\" is ', predict_sentiment(tweet1))\n",
    "\n",
    "#Example of WRONG negative result\n",
    "tweet2 = \"This chicken was nasty!\"\n",
    "print('\\nThe tweet -> \"',tweet2,'\" is', predict_sentiment(tweet2))\n",
    "\n",
    "#Example of right result\n",
    "tweet3 = \"I'm in love the dogs\"\n",
    "print('\\nThe tweet -> \"',tweet3,'\" is', predict_sentiment(tweet3),'--> WRONG! Should be positive!')\n",
    "\n",
    "#Example of right result\n",
    "tweet4 = \"I'm a neutral comment\"\n",
    "print('\\nThe tweet -> \"',tweet4,'\" is', predict_sentiment(tweet4))\n",
    "\n",
    "#Example of WRONG negative result\n",
    "tweet5 = \"This pic is so bad!\"\n",
    "print('\\nThe tweet -> \"',tweet5,'\" is', predict_sentiment(tweet5))"
   ]
  },
  {
   "cell_type": "markdown",
   "metadata": {},
   "source": [
    "#---------------------------------------------------------------#"
   ]
  }
 ],
 "metadata": {
  "kernelspec": {
   "display_name": "Python 3",
   "language": "python",
   "name": "python3"
  },
  "language_info": {
   "codemirror_mode": {
    "name": "ipython",
    "version": 3
   },
   "file_extension": ".py",
   "mimetype": "text/x-python",
   "name": "python",
   "nbconvert_exporter": "python",
   "pygments_lexer": "ipython3",
   "version": "3.9.19"
  }
 },
 "nbformat": 4,
 "nbformat_minor": 2
}
